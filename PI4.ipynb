{
 "cells": [
  {
   "cell_type": "markdown",
   "id": "4a042dec-be89-45ce-bd89-0741a9c77061",
   "metadata": {},
   "source": [
    "# PROJETO INTEGRADOR 4"
   ]
  },
  {
   "cell_type": "markdown",
   "id": "9fe703f9-7f6d-47e3-be34-e5d71fcaa82f",
   "metadata": {},
   "source": [
    "## Importanto as bibliotecas"
   ]
  },
  {
   "cell_type": "code",
   "execution_count": 1,
   "id": "3dbc06e9-8ea6-41a7-b6ae-2dafcfb23c1c",
   "metadata": {},
   "outputs": [],
   "source": [
    "import pandas as pd\n",
    "import seaborn as sns\n",
    "import matplotlib.pyplot as plt"
   ]
  },
  {
   "cell_type": "markdown",
   "id": "7563d2d2-5b4a-46d8-8367-0d0e1343e3f7",
   "metadata": {},
   "source": [
    "## Importanto os dados"
   ]
  },
  {
   "cell_type": "code",
   "execution_count": 2,
   "id": "a37bf7db-f6c8-4707-83e5-a67fca912660",
   "metadata": {},
   "outputs": [
    {
     "name": "stdout",
     "output_type": "stream",
     "text": [
      "As opções de localidade são: \n"
     ]
    },
    {
     "data": {
      "text/plain": [
       "{0: 'barretos.csv',\n",
       " 1: 'barra_bonita.csv',\n",
       " 2: 'casa_branca.csv',\n",
       " 3: 'sao_carlos.csv',\n",
       " 4: 'marilia.csv',\n",
       " 5: 'avare.csv',\n",
       " 6: 'sao_paulo.csv'}"
      ]
     },
     "metadata": {},
     "output_type": "display_data"
    }
   ],
   "source": [
    "### LENDO TODOS OS ARQUIVOS CSV COM INFOS CLIMATICAS QUE BAIXAMOS\n",
    "\n",
    "import glob\n",
    "lista_num = []\n",
    "lista_arquivos = []\n",
    "for i, file in enumerate (glob.glob(\"*.csv\")):\n",
    "    lista_arquivos.append(file)\n",
    "    lista_num.append(i)\n",
    "    \n",
    "dictionary = dict(zip(lista_num, lista_arquivos))\n",
    "print('As opções de localidade são: ' )\n",
    "display(dictionary)"
   ]
  },
  {
   "cell_type": "code",
   "execution_count": 3,
   "id": "4977d0b0-57c4-4a38-8e7d-c9f59df271d5",
   "metadata": {},
   "outputs": [],
   "source": [
    "############## ESCOLHENDO A LOCALIDADE ###################\n",
    "\n",
    "localidade = 0\n",
    "\n",
    "df = pd.read_csv(dictionary[localidade], sep=';')"
   ]
  },
  {
   "cell_type": "code",
   "execution_count": 4,
   "id": "c5ad3607-664a-4005-8356-beffb1d60d32",
   "metadata": {},
   "outputs": [],
   "source": [
    "#df = pd.read_csv('generatedBy_react-csv.csv', sep=';')"
   ]
  },
  {
   "cell_type": "code",
   "execution_count": 5,
   "id": "7d8e0622-ace2-4f04-8c6c-52b9113b6e92",
   "metadata": {},
   "outputs": [
    {
     "data": {
      "text/html": [
       "<div>\n",
       "<style scoped>\n",
       "    .dataframe tbody tr th:only-of-type {\n",
       "        vertical-align: middle;\n",
       "    }\n",
       "\n",
       "    .dataframe tbody tr th {\n",
       "        vertical-align: top;\n",
       "    }\n",
       "\n",
       "    .dataframe thead th {\n",
       "        text-align: right;\n",
       "    }\n",
       "</style>\n",
       "<table border=\"1\" class=\"dataframe\">\n",
       "  <thead>\n",
       "    <tr style=\"text-align: right;\">\n",
       "      <th></th>\n",
       "      <th>Data</th>\n",
       "      <th>Hora (UTC)</th>\n",
       "      <th>Temp. Ins. (C)</th>\n",
       "      <th>Temp. Max. (C)</th>\n",
       "      <th>Temp. Min. (C)</th>\n",
       "      <th>Umi. Ins. (%)</th>\n",
       "      <th>Umi. Max. (%)</th>\n",
       "      <th>Umi. Min. (%)</th>\n",
       "      <th>Pto Orvalho Ins. (C)</th>\n",
       "      <th>Pto Orvalho Max. (C)</th>\n",
       "      <th>Pto Orvalho Min. (C)</th>\n",
       "      <th>Pressao Ins. (hPa)</th>\n",
       "      <th>Pressao Max. (hPa)</th>\n",
       "      <th>Pressao Min. (hPa)</th>\n",
       "      <th>Vel. Vento (m/s)</th>\n",
       "      <th>Dir. Vento (m/s)</th>\n",
       "      <th>Raj. Vento (m/s)</th>\n",
       "      <th>Radiacao (KJ/m²)</th>\n",
       "      <th>Chuva (mm)</th>\n",
       "    </tr>\n",
       "  </thead>\n",
       "  <tbody>\n",
       "    <tr>\n",
       "      <th>0</th>\n",
       "      <td>05/11/2022</td>\n",
       "      <td>0</td>\n",
       "      <td>19.2</td>\n",
       "      <td>19.5</td>\n",
       "      <td>18.3</td>\n",
       "      <td>45.0</td>\n",
       "      <td>51.0</td>\n",
       "      <td>44.0</td>\n",
       "      <td>6.9</td>\n",
       "      <td>8.1</td>\n",
       "      <td>6.9</td>\n",
       "      <td>954.4</td>\n",
       "      <td>954.4</td>\n",
       "      <td>954.1</td>\n",
       "      <td>1.3</td>\n",
       "      <td>118.0</td>\n",
       "      <td>2.8</td>\n",
       "      <td>NaN</td>\n",
       "      <td>0.0</td>\n",
       "    </tr>\n",
       "    <tr>\n",
       "      <th>1</th>\n",
       "      <td>05/11/2022</td>\n",
       "      <td>100</td>\n",
       "      <td>18.1</td>\n",
       "      <td>19.2</td>\n",
       "      <td>18.1</td>\n",
       "      <td>48.0</td>\n",
       "      <td>49.0</td>\n",
       "      <td>44.0</td>\n",
       "      <td>6.9</td>\n",
       "      <td>7.4</td>\n",
       "      <td>6.6</td>\n",
       "      <td>955.0</td>\n",
       "      <td>955.0</td>\n",
       "      <td>954.4</td>\n",
       "      <td>0.8</td>\n",
       "      <td>139.0</td>\n",
       "      <td>3.7</td>\n",
       "      <td>NaN</td>\n",
       "      <td>0.0</td>\n",
       "    </tr>\n",
       "    <tr>\n",
       "      <th>2</th>\n",
       "      <td>05/11/2022</td>\n",
       "      <td>200</td>\n",
       "      <td>17.7</td>\n",
       "      <td>18.4</td>\n",
       "      <td>17.4</td>\n",
       "      <td>49.0</td>\n",
       "      <td>50.0</td>\n",
       "      <td>45.0</td>\n",
       "      <td>6.7</td>\n",
       "      <td>7.1</td>\n",
       "      <td>6.3</td>\n",
       "      <td>955.2</td>\n",
       "      <td>955.2</td>\n",
       "      <td>955.0</td>\n",
       "      <td>1.7</td>\n",
       "      <td>145.0</td>\n",
       "      <td>4.7</td>\n",
       "      <td>NaN</td>\n",
       "      <td>0.0</td>\n",
       "    </tr>\n",
       "    <tr>\n",
       "      <th>3</th>\n",
       "      <td>05/11/2022</td>\n",
       "      <td>300</td>\n",
       "      <td>16.8</td>\n",
       "      <td>17.9</td>\n",
       "      <td>16.6</td>\n",
       "      <td>54.0</td>\n",
       "      <td>55.0</td>\n",
       "      <td>48.0</td>\n",
       "      <td>7.4</td>\n",
       "      <td>7.6</td>\n",
       "      <td>6.8</td>\n",
       "      <td>954.6</td>\n",
       "      <td>955.4</td>\n",
       "      <td>954.6</td>\n",
       "      <td>2.2</td>\n",
       "      <td>141.0</td>\n",
       "      <td>5.6</td>\n",
       "      <td>NaN</td>\n",
       "      <td>0.0</td>\n",
       "    </tr>\n",
       "    <tr>\n",
       "      <th>4</th>\n",
       "      <td>05/11/2022</td>\n",
       "      <td>400</td>\n",
       "      <td>16.0</td>\n",
       "      <td>16.8</td>\n",
       "      <td>15.7</td>\n",
       "      <td>58.0</td>\n",
       "      <td>60.0</td>\n",
       "      <td>54.0</td>\n",
       "      <td>7.8</td>\n",
       "      <td>7.9</td>\n",
       "      <td>7.3</td>\n",
       "      <td>954.5</td>\n",
       "      <td>954.7</td>\n",
       "      <td>954.5</td>\n",
       "      <td>1.5</td>\n",
       "      <td>138.0</td>\n",
       "      <td>5.6</td>\n",
       "      <td>NaN</td>\n",
       "      <td>0.0</td>\n",
       "    </tr>\n",
       "  </tbody>\n",
       "</table>\n",
       "</div>"
      ],
      "text/plain": [
       "         Data  Hora (UTC)  Temp. Ins. (C)  Temp. Max. (C)  Temp. Min. (C)  \\\n",
       "0  05/11/2022           0            19.2            19.5            18.3   \n",
       "1  05/11/2022         100            18.1            19.2            18.1   \n",
       "2  05/11/2022         200            17.7            18.4            17.4   \n",
       "3  05/11/2022         300            16.8            17.9            16.6   \n",
       "4  05/11/2022         400            16.0            16.8            15.7   \n",
       "\n",
       "   Umi. Ins. (%)  Umi. Max. (%)  Umi. Min. (%)  Pto Orvalho Ins. (C)  \\\n",
       "0           45.0           51.0           44.0                   6.9   \n",
       "1           48.0           49.0           44.0                   6.9   \n",
       "2           49.0           50.0           45.0                   6.7   \n",
       "3           54.0           55.0           48.0                   7.4   \n",
       "4           58.0           60.0           54.0                   7.8   \n",
       "\n",
       "   Pto Orvalho Max. (C)  Pto Orvalho Min. (C)  Pressao Ins. (hPa)  \\\n",
       "0                   8.1                   6.9               954.4   \n",
       "1                   7.4                   6.6               955.0   \n",
       "2                   7.1                   6.3               955.2   \n",
       "3                   7.6                   6.8               954.6   \n",
       "4                   7.9                   7.3               954.5   \n",
       "\n",
       "   Pressao Max. (hPa)  Pressao Min. (hPa)  Vel. Vento (m/s)  Dir. Vento (m/s)  \\\n",
       "0               954.4               954.1               1.3             118.0   \n",
       "1               955.0               954.4               0.8             139.0   \n",
       "2               955.2               955.0               1.7             145.0   \n",
       "3               955.4               954.6               2.2             141.0   \n",
       "4               954.7               954.5               1.5             138.0   \n",
       "\n",
       "   Raj. Vento (m/s)  Radiacao (KJ/m²)  Chuva (mm)  \n",
       "0               2.8               NaN         0.0  \n",
       "1               3.7               NaN         0.0  \n",
       "2               4.7               NaN         0.0  \n",
       "3               5.6               NaN         0.0  \n",
       "4               5.6               NaN         0.0  "
      ]
     },
     "execution_count": 5,
     "metadata": {},
     "output_type": "execute_result"
    }
   ],
   "source": [
    "df.head()"
   ]
  },
  {
   "cell_type": "markdown",
   "id": "f5a47fc0-aeb7-4065-9ef2-8cba2e8928df",
   "metadata": {},
   "source": [
    "## Verificando o formato da data"
   ]
  },
  {
   "cell_type": "code",
   "execution_count": 6,
   "id": "49c54c33-b0bc-4a6d-97de-d85513cac51b",
   "metadata": {},
   "outputs": [
    {
     "data": {
      "text/plain": [
       "'05/11/2022'"
      ]
     },
     "execution_count": 6,
     "metadata": {},
     "output_type": "execute_result"
    }
   ],
   "source": [
    "df.iloc[0].Data"
   ]
  },
  {
   "cell_type": "markdown",
   "id": "a4f6b035-9649-4948-84f9-5744c078db47",
   "metadata": {},
   "source": [
    "## Descrição de dados julgados pertinentes "
   ]
  },
  {
   "cell_type": "code",
   "execution_count": 7,
   "id": "bf90174d-4c06-4af4-a3e0-d6901f190ca0",
   "metadata": {},
   "outputs": [
    {
     "data": {
      "text/html": [
       "<div>\n",
       "<style scoped>\n",
       "    .dataframe tbody tr th:only-of-type {\n",
       "        vertical-align: middle;\n",
       "    }\n",
       "\n",
       "    .dataframe tbody tr th {\n",
       "        vertical-align: top;\n",
       "    }\n",
       "\n",
       "    .dataframe thead th {\n",
       "        text-align: right;\n",
       "    }\n",
       "</style>\n",
       "<table border=\"1\" class=\"dataframe\">\n",
       "  <thead>\n",
       "    <tr style=\"text-align: right;\">\n",
       "      <th></th>\n",
       "      <th>Temp. Min. (C)</th>\n",
       "      <th>Chuva (mm)</th>\n",
       "      <th>Vel. Vento (m/s)</th>\n",
       "    </tr>\n",
       "  </thead>\n",
       "  <tbody>\n",
       "    <tr>\n",
       "      <th>mean</th>\n",
       "      <td>23.158927</td>\n",
       "      <td>0.218102</td>\n",
       "      <td>1.114168</td>\n",
       "    </tr>\n",
       "    <tr>\n",
       "      <th>std</th>\n",
       "      <td>3.892695</td>\n",
       "      <td>1.258513</td>\n",
       "      <td>0.595826</td>\n",
       "    </tr>\n",
       "    <tr>\n",
       "      <th>min</th>\n",
       "      <td>12.800000</td>\n",
       "      <td>0.000000</td>\n",
       "      <td>0.100000</td>\n",
       "    </tr>\n",
       "    <tr>\n",
       "      <th>25%</th>\n",
       "      <td>20.300000</td>\n",
       "      <td>0.000000</td>\n",
       "      <td>0.600000</td>\n",
       "    </tr>\n",
       "    <tr>\n",
       "      <th>50%</th>\n",
       "      <td>21.900000</td>\n",
       "      <td>0.000000</td>\n",
       "      <td>1.000000</td>\n",
       "    </tr>\n",
       "    <tr>\n",
       "      <th>75%</th>\n",
       "      <td>26.100000</td>\n",
       "      <td>0.000000</td>\n",
       "      <td>1.500000</td>\n",
       "    </tr>\n",
       "    <tr>\n",
       "      <th>max</th>\n",
       "      <td>34.300000</td>\n",
       "      <td>28.000000</td>\n",
       "      <td>4.400000</td>\n",
       "    </tr>\n",
       "  </tbody>\n",
       "</table>\n",
       "</div>"
      ],
      "text/plain": [
       "      Temp. Min. (C)  Chuva (mm)  Vel. Vento (m/s)\n",
       "mean       23.158927    0.218102          1.114168\n",
       "std         3.892695    1.258513          0.595826\n",
       "min        12.800000    0.000000          0.100000\n",
       "25%        20.300000    0.000000          0.600000\n",
       "50%        21.900000    0.000000          1.000000\n",
       "75%        26.100000    0.000000          1.500000\n",
       "max        34.300000   28.000000          4.400000"
      ]
     },
     "execution_count": 7,
     "metadata": {},
     "output_type": "execute_result"
    }
   ],
   "source": [
    "df.describe()[['Temp. Min. (C)', 'Chuva (mm)', 'Vel. Vento (m/s)']][1::]"
   ]
  },
  {
   "cell_type": "markdown",
   "id": "42b5f6c1-5cfd-4d3c-a6dd-857a631f95ce",
   "metadata": {},
   "source": [
    "## Capacidade de realização de filtros por data e um histograma de temperaturas mínimas para a data selecionada"
   ]
  },
  {
   "cell_type": "code",
   "execution_count": 8,
   "id": "c376e26d-bd08-4efb-8cb6-29390ac9ef7b",
   "metadata": {},
   "outputs": [],
   "source": [
    "df2 = df.query(\"Data == '05/11/2022'\").copy().reset_index(drop=True)"
   ]
  },
  {
   "cell_type": "code",
   "execution_count": 9,
   "id": "af8215a2-8ade-4627-9dd4-5b412ce8a984",
   "metadata": {},
   "outputs": [
    {
     "data": {
      "image/png": "[encoded data removed]",
      "text/plain": [
       "<Figure size 432x288 with 1 Axes>"
      ]
     },
     "metadata": {
      "needs_background": "light"
     },
     "output_type": "display_data"
    }
   ],
   "source": [
    "sns.histplot(data=df2[\"Temp. Min. (C)\"])\n",
    "plt.xticks(fontsize=14)\n",
    "plt.yticks(fontsize=14)\n",
    "plt.xlabel(\"Temp. Min. (C)\", fontsize=14)\n",
    "plt.ylabel(\"Contagem\", fontsize=14)\n",
    "### NOVO\n",
    "plt.title(dictionary[localidade], fontsize=14)\n",
    "### NOVO\n",
    "plt.show()"
   ]
  },
  {
   "cell_type": "markdown",
   "id": "329fb3c3-52d1-4630-8630-3bb921380b17",
   "metadata": {},
   "source": [
    "## Conversão para o tipo aproproado de data (cast para datetime)"
   ]
  },
  {
   "cell_type": "code",
   "execution_count": 10,
   "id": "8cc00381-9c08-42c8-951b-b14db2354df9",
   "metadata": {},
   "outputs": [],
   "source": [
    "df.Data = pd.to_datetime(df.Data, dayfirst=True)"
   ]
  },
  {
   "cell_type": "markdown",
   "id": "add11e5b-1903-4f24-9e91-820633d993ee",
   "metadata": {},
   "source": [
    "## Agrupamento para plot de linhas de precipitação (em mm) por data"
   ]
  },
  {
   "cell_type": "code",
   "execution_count": 11,
   "id": "f0d98000-6e23-4777-9396-c66fb7a0c1ee",
   "metadata": {},
   "outputs": [
    {
     "data": {
      "text/html": [
       "<div>\n",
       "<style scoped>\n",
       "    .dataframe tbody tr th:only-of-type {\n",
       "        vertical-align: middle;\n",
       "    }\n",
       "\n",
       "    .dataframe tbody tr th {\n",
       "        vertical-align: top;\n",
       "    }\n",
       "\n",
       "    .dataframe thead th {\n",
       "        text-align: right;\n",
       "    }\n",
       "</style>\n",
       "<table border=\"1\" class=\"dataframe\">\n",
       "  <thead>\n",
       "    <tr style=\"text-align: right;\">\n",
       "      <th></th>\n",
       "      <th>Data</th>\n",
       "      <th>Chuva (mm)</th>\n",
       "    </tr>\n",
       "  </thead>\n",
       "  <tbody>\n",
       "    <tr>\n",
       "      <th>0</th>\n",
       "      <td>2022-11-05</td>\n",
       "      <td>0.0</td>\n",
       "    </tr>\n",
       "    <tr>\n",
       "      <th>1</th>\n",
       "      <td>2022-11-06</td>\n",
       "      <td>0.0</td>\n",
       "    </tr>\n",
       "    <tr>\n",
       "      <th>2</th>\n",
       "      <td>2022-11-07</td>\n",
       "      <td>0.0</td>\n",
       "    </tr>\n",
       "    <tr>\n",
       "      <th>3</th>\n",
       "      <td>2022-11-08</td>\n",
       "      <td>0.0</td>\n",
       "    </tr>\n",
       "    <tr>\n",
       "      <th>4</th>\n",
       "      <td>2022-11-09</td>\n",
       "      <td>0.2</td>\n",
       "    </tr>\n",
       "    <tr>\n",
       "      <th>...</th>\n",
       "      <td>...</td>\n",
       "      <td>...</td>\n",
       "    </tr>\n",
       "    <tr>\n",
       "      <th>147</th>\n",
       "      <td>2023-04-01</td>\n",
       "      <td>0.0</td>\n",
       "    </tr>\n",
       "    <tr>\n",
       "      <th>148</th>\n",
       "      <td>2023-04-02</td>\n",
       "      <td>0.0</td>\n",
       "    </tr>\n",
       "    <tr>\n",
       "      <th>149</th>\n",
       "      <td>2023-04-03</td>\n",
       "      <td>2.4</td>\n",
       "    </tr>\n",
       "    <tr>\n",
       "      <th>150</th>\n",
       "      <td>2023-04-04</td>\n",
       "      <td>1.4</td>\n",
       "    </tr>\n",
       "    <tr>\n",
       "      <th>151</th>\n",
       "      <td>2023-04-05</td>\n",
       "      <td>0.2</td>\n",
       "    </tr>\n",
       "  </tbody>\n",
       "</table>\n",
       "<p>152 rows × 2 columns</p>\n",
       "</div>"
      ],
      "text/plain": [
       "          Data  Chuva (mm)\n",
       "0   2022-11-05         0.0\n",
       "1   2022-11-06         0.0\n",
       "2   2022-11-07         0.0\n",
       "3   2022-11-08         0.0\n",
       "4   2022-11-09         0.2\n",
       "..         ...         ...\n",
       "147 2023-04-01         0.0\n",
       "148 2023-04-02         0.0\n",
       "149 2023-04-03         2.4\n",
       "150 2023-04-04         1.4\n",
       "151 2023-04-05         0.2\n",
       "\n",
       "[152 rows x 2 columns]"
      ]
     },
     "execution_count": 11,
     "metadata": {},
     "output_type": "execute_result"
    }
   ],
   "source": [
    "df_agrupado = df.groupby(by=[\"Data\"]).max()['Chuva (mm)'].copy().reset_index()\n",
    "df_agrupado = df_agrupado.sort_values(by='Data')\n",
    "df_agrupado"
   ]
  },
  {
   "cell_type": "markdown",
   "id": "56a7fb4d-8ecb-4150-8da4-40740e2f6663",
   "metadata": {},
   "source": [
    "## Plot de linhas de precipitação por mês"
   ]
  },
  {
   "cell_type": "code",
   "execution_count": 12,
   "id": "dba159ec-2a00-4b32-a124-6cd50758619a",
   "metadata": {},
   "outputs": [
    {
     "data": {
      "image/png": "[encoded data removed]",
      "text/plain": [
       "<Figure size 432x288 with 1 Axes>"
      ]
     },
     "metadata": {
      "needs_background": "light"
     },
     "output_type": "display_data"
    }
   ],
   "source": [
    "sns.lineplot(x=df_agrupado.Data, y=df_agrupado['Chuva (mm)'])\n",
    "plt.xticks(fontsize=14, rotation=45)\n",
    "plt.yticks(fontsize=14)\n",
    "plt.xlabel(\"Data\", fontsize=14)\n",
    "plt.ylabel(\"Chuva (mm)\", fontsize=14)\n",
    "### NOVO\n",
    "plt.title(dictionary[localidade], fontsize=14)\n",
    "### NOVO\n",
    "plt.show()"
   ]
  },
  {
   "cell_type": "markdown",
   "id": "59dfe944-5199-4482-bbf6-957bb8756819",
   "metadata": {},
   "source": [
    "## CONFRONTANDO LOCALIDADES"
   ]
  },
  {
   "cell_type": "code",
   "execution_count": 13,
   "id": "95c86b32-2cef-46fc-8602-0f939038dd9f",
   "metadata": {},
   "outputs": [
    {
     "name": "stdout",
     "output_type": "stream",
     "text": [
      "As opções de localidade são: \n"
     ]
    },
    {
     "data": {
      "text/plain": [
       "{0: 'barretos.csv',\n",
       " 1: 'barra_bonita.csv',\n",
       " 2: 'casa_branca.csv',\n",
       " 3: 'sao_carlos.csv',\n",
       " 4: 'marilia.csv',\n",
       " 5: 'avare.csv',\n",
       " 6: 'sao_paulo.csv'}"
      ]
     },
     "metadata": {},
     "output_type": "display_data"
    }
   ],
   "source": [
    "print('As opções de localidade são: ' )\n",
    "display(dictionary)"
   ]
  },
  {
   "cell_type": "code",
   "execution_count": 36,
   "id": "c52a5015-c42d-4465-8335-4af9df196723",
   "metadata": {},
   "outputs": [
    {
     "data": {
      "image/png": "[encoded data removed]",
      "text/plain": [
       "<Figure size 720x432 with 1 Axes>"
      ]
     },
     "metadata": {
      "needs_background": "light"
     },
     "output_type": "display_data"
    }
   ],
   "source": [
    "### SELECIONANDO AS LOCALIDADES:\n",
    "localidade_1 = 0\n",
    "localidade_2 = 3\n",
    "\n",
    "df_confronto_1 = pd.read_csv(dictionary[localidade_1], sep=';')\n",
    "df_confronto_2 = pd.read_csv(dictionary[localidade_2], sep=';')\n",
    "\n",
    "df_confronto_1.Data = pd.to_datetime(df_confronto_1.Data, dayfirst=True)\n",
    "df_confronto_2.Data = pd.to_datetime(df_confronto_2.Data, dayfirst=True)\n",
    "\n",
    "df_agrupado_1 = df_confronto_1.groupby(by=[\"Data\"]).max()['Chuva (mm)'].copy().reset_index()\n",
    "df_agrupado_1 = df_agrupado_1.sort_values(by='Data')\n",
    "\n",
    "df_agrupado_2 = df_confronto_2.groupby(by=[\"Data\"]).max()['Chuva (mm)'].copy().reset_index()\n",
    "df_agrupado_2 = df_agrupado_2.sort_values(by='Data')\n",
    "\n",
    "plt.figure(figsize=(10,6))\n",
    "\n",
    "sns.lineplot(x=df_agrupado_1.Data, y=df_agrupado_1['Chuva (mm)'], label=dictionary[localidade_1], color='red', linestyle='-')\n",
    "sns.lineplot(x=df_agrupado_2.Data, y=df_agrupado_2['Chuva (mm)'], label=dictionary[localidade_2], color='blue', linestyle='dotted')\n",
    "plt.xticks(fontsize=14, rotation=45)\n",
    "plt.yticks(fontsize=14)\n",
    "plt.xlabel(\"Data\", fontsize=14)\n",
    "plt.ylabel(\"Chuva (mm)\", fontsize=14)\n",
    "plt.legend()\n",
    "### NOVO\n",
    "plt.title('confronto entre {} vs {}'.format(dictionary[localidade_1],dictionary[localidade_2]) , fontsize=14)\n",
    "### NOVO\n",
    "plt.show()"
   ]
  }
 ],
 "metadata": {
  "kernelspec": {
   "display_name": "Python 3 (ipykernel)",
   "language": "python",
   "name": "python3"
  },
  "language_info": {
   "codemirror_mode": {
    "name": "ipython",
    "version": 3
   },
   "file_extension": ".py",
   "mimetype": "text/x-python",
   "name": "python",
   "nbconvert_exporter": "python",
   "pygments_lexer": "ipython3",
   "version": "3.10.2"
  }
 },
 "nbformat": 4,
 "nbformat_minor": 5
}
